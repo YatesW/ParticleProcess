{
 "cells": [
  {
   "cell_type": "code",
   "execution_count": 13,
   "metadata": {},
   "outputs": [],
   "source": [
    "import pandas as pd\n",
    "import numpy as np\n",
    "import pickle as pkl\n",
    "import os\n",
    "\n",
    "import seaborn as sns\n",
    "import matplotlib.pyplot as plt"
   ]
  },
  {
   "cell_type": "code",
   "execution_count": 14,
   "metadata": {},
   "outputs": [],
   "source": [
    "# np.array(os.listdir())"
   ]
  },
  {
   "cell_type": "markdown",
   "metadata": {},
   "source": [
    "### 绘制热力图\n",
    "\n",
    "* concentration = count* V<sub>f</sub>* D<sub>f</sub> / (TE* V<sub>i</sub>* m)\n",
    "\n",
    "> TE: 传输效率   \n",
    "> V<sub>i</sub>: 进样体积(ml)   \n",
    "> V<sub>f</sub>: 定容体积(ml)  \n",
    "> D<sub>f</sub>: 稀释倍数  \n",
    "> m: 称样质量(mg)"
   ]
  },
  {
   "cell_type": "code",
   "execution_count": 22,
   "metadata": {},
   "outputs": [],
   "source": [
    "class HeatMapDrawer:\n",
    "    \n",
    "    def __init__(self, file, base, TE, Vi, Vf, Df, m):\n",
    "        '''\n",
    "        file:物质名的features文件名\n",
    "        base:log的底数\n",
    "        TE;传输效率\n",
    "        Vi:进样体积(ml)\n",
    "        Vf:定容体积(ml)\n",
    "        Df:稀释倍数\n",
    "        m:称样质量(mg)\n",
    "        '''\n",
    "        self.file = file\n",
    "        self.df = pd.read_csv(file)\n",
    "        self.base = base\n",
    "        self.TE = TE\n",
    "        self.Vi = Vi\n",
    "        self.Vf = Vf\n",
    "        self.Df = Df\n",
    "        self.m = m\n",
    "        self.iso_dic = dict()\n",
    "        \n",
    "    \n",
    "    \n",
    "    def get_iso_dic(self):\n",
    "        '''\n",
    "        读取同位素的二进制字典。\n",
    "        '''\n",
    "        iso_dic_pk = './existing_isotopes_dict.pk'\n",
    "        with open(iso_dic_pk, 'rb') as f:\n",
    "            self.iso_dic = pkl.load(f)\n",
    "            \n",
    "            \n",
    "            \n",
    "    def decode(self, emb):\n",
    "        '''\n",
    "        将颗粒所属频繁项的embedding转成物质组成式。\n",
    "        emb_ser:颗粒所属频繁项embedding\n",
    "        '''\n",
    "        self.get_iso_dic()\n",
    "        res = ''\n",
    "        for k,v in self.iso_dic.items():\n",
    "            if v==emb&v:\n",
    "                if not res:\n",
    "                    res = ''.join([res,k])\n",
    "                else:\n",
    "                    res = '-'.join([res,k])\n",
    "        return res\n",
    "    \n",
    "    \n",
    "    \n",
    "    def heatmap_data(self):\n",
    "        '''\n",
    "        得到绘图需要的数据文件并保存为csv。\n",
    "        '''\n",
    "        coef = self.Vf*self.Df/(self.TE*self.Vi*self.m)\n",
    "        \n",
    "        iso_n = int((self.df.shape[1]-7)/2)\n",
    "        iso_df = self.df.iloc[:, 1:iso_n+6]\n",
    "        iso_df = iso_df.drop(['uniq_iso','uniq_iso_n','number','concentration'], axis=1)\n",
    "        iso_df['uniq_iso_emb'] = iso_df['uniq_iso_emb'].astype('int64')\n",
    "        iso_df['components'] = iso_df['uniq_iso_emb'].apply(lambda x:self.decode(x))\n",
    "        iso_df = iso_df.iloc[:,1:]\n",
    "\n",
    "        comp_li = iso_df['components'].unique()\n",
    "        \n",
    "        res = pd.DataFrame()\n",
    "        for comp in comp_li:\n",
    "            tmp = iso_df.groupby('components').get_group(comp)\n",
    "            res = pd.concat([res, coef*pd.DataFrame(tmp.count()).T], axis=0)\n",
    "        res.drop('components', axis=1)\n",
    "        res = res.replace(0,1)\n",
    "        res = np.log(res)/np.log(self.base)\n",
    "\n",
    "        res['components'] = comp_li\n",
    "        # res.to_csv(''.join(['heatmap_', str(self.base), '.csv']), index=None)\n",
    "        return res\n",
    "        \n",
    "        \n",
    "        \n",
    "    def draw(self):\n",
    "        '''\n",
    "        绘制热力图。\n",
    "        '''\n",
    "        data = self.heatmap_data()\n",
    "        data.set_index(['components'], inplace=True)\n",
    "        sns.set_style('whitegrid')\n",
    "        ax = sns.heatmap(data, cmap='RdBu_r')\n",
    "        p = ax.get_figure()\n",
    "        figname = '.'.join(['-'.join([self.file[:-4], str(self.base)]), 'png'])\n",
    "        p.savefig(figname, bbox_inches='tight')"
   ]
  },
  {
   "cell_type": "code",
   "execution_count": 23,
   "metadata": {},
   "outputs": [],
   "source": [
    "file_li = ['A1-features.csv','A11-features.csv', 'A13-features.csv', 'A15-features.csv',\n",
    "       'A17-features.csv', 'A19-features.csv', 'A21-features.csv',\n",
    "       'A23-features.csv', 'A25-features.csv', 'A27-features.csv',\n",
    "       'A29-features.csv', 'A3-features.csv', 'A31-features.csv',\n",
    "       'A33-features.csv', 'A35-features.csv', 'A37-features.csv',\n",
    "       'A39-features.csv', 'A41-features.csv', 'A43-features.csv',\n",
    "       'A45-features.csv', 'A47-features.csv', 'A49-features.csv',\n",
    "       'A5-features.csv', 'A51-features.csv', 'A53-features.csv',\n",
    "       'A55-features.csv', 'A57-features.csv', 'A59-features.csv',\n",
    "       'A61-features.csv', 'A63-features.csv', 'A65-features.csv',\n",
    "       'A67-features.csv', 'A69-features.csv', 'A7-features.csv',\n",
    "       'A71-features.csv', 'A73-features.csv', 'A75-features.csv',\n",
    "       'A77-features.csv', 'A79-features.csv', 'A81-features.csv',\n",
    "       'A9-features.csv', 'S23-features.csv', 'S9-features.csv']\n",
    "\n",
    "TE = 0.1\n",
    "Vi = 0.05\n",
    "Vf = 50\n",
    "Df = 10\n",
    "m = 20"
   ]
  },
  {
   "cell_type": "code",
   "execution_count": 25,
   "metadata": {
    "scrolled": false
   },
   "outputs": [
    {
     "data": {
      "text/plain": [
       "<Figure size 2160x2160 with 0 Axes>"
      ]
     },
     "metadata": {},
     "output_type": "display_data"
    }
   ],
   "source": [
    "plt.rcParams[\"figure.figsize\"] = (30,30)\n",
    "\n",
    "for file in file_li:\n",
    "    base = 10\n",
    "    drawer = HeatMapDrawer(file, base, TE, Vi, Vf, Df, m)\n",
    "    drawer.draw()\n",
    "    plt.clf()"
   ]
  }
 ],
 "metadata": {
  "kernelspec": {
   "display_name": "'projection'",
   "language": "python",
   "name": "projection"
  },
  "language_info": {
   "codemirror_mode": {
    "name": "ipython",
    "version": 3
   },
   "file_extension": ".py",
   "mimetype": "text/x-python",
   "name": "python",
   "nbconvert_exporter": "python",
   "pygments_lexer": "ipython3",
   "version": "3.6.12"
  }
 },
 "nbformat": 4,
 "nbformat_minor": 4
}
